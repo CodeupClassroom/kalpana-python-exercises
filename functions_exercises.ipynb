{
 "cells": [
  {
   "cell_type": "markdown",
   "metadata": {},
   "source": [
    "## Functions Exercise Solutions"
   ]
  },
  {
   "cell_type": "code",
   "execution_count": 88,
   "metadata": {},
   "outputs": [],
   "source": [
    "# Exercise 1\n",
    "# Define a function named is_two. \n",
    "# It should accept one input and return True if \n",
    "# the passed input is either the number or the string 2, \n",
    "# False otherwise.\n",
    "\n",
    "def is_two(n):\n",
    "    return n == 2 or n == '2'"
   ]
  },
  {
   "cell_type": "code",
   "execution_count": 89,
   "metadata": {},
   "outputs": [],
   "source": [
    "# Exercise 2\n",
    "# Define a function named is_vowel. \n",
    "# It should return True if the passed string is a vowel, \n",
    "# False otherwise.\n",
    "\n",
    "def is_vowel(string):\n",
    "    return len(string) == 1 and string.lower() in 'aeiou'\n"
   ]
  },
  {
   "cell_type": "code",
   "execution_count": 90,
   "metadata": {},
   "outputs": [],
   "source": [
    "# Exercise 3\n",
    "# Define a function named is_consonant.\n",
    "# It should return True if the passed string is a consonant, \n",
    "# False otherwise. Use your is_vowel function to accomplish this.\n",
    "\n",
    "def is_consonant(string):\n",
    "    return len(string) == 1 and not is_vowel(string) and string.isalpha()"
   ]
  },
  {
   "cell_type": "code",
   "execution_count": 91,
   "metadata": {},
   "outputs": [
    {
     "data": {
      "text/plain": [
       "False"
      ]
     },
     "execution_count": 91,
     "metadata": {},
     "output_type": "execute_result"
    }
   ],
   "source": [
    "is_consonant('aei')"
   ]
  },
  {
   "cell_type": "code",
   "execution_count": 92,
   "metadata": {},
   "outputs": [
    {
     "data": {
      "text/plain": [
       "False"
      ]
     },
     "execution_count": 92,
     "metadata": {},
     "output_type": "execute_result"
    }
   ],
   "source": [
    "is_consonant('a')"
   ]
  },
  {
   "cell_type": "code",
   "execution_count": 93,
   "metadata": {},
   "outputs": [
    {
     "data": {
      "text/plain": [
       "True"
      ]
     },
     "execution_count": 93,
     "metadata": {},
     "output_type": "execute_result"
    }
   ],
   "source": [
    "is_consonant('f')"
   ]
  },
  {
   "cell_type": "code",
   "execution_count": 94,
   "metadata": {},
   "outputs": [],
   "source": [
    "# Exercise 4\n",
    "# Define a function that accepts a string that is a word. \n",
    "# The function should capitalize the \n",
    "# first letter of the word if the word starts with a consonant.\n",
    "\n",
    "def capitalize_starting_consonant(string):\n",
    "    first_letter = string[0]\n",
    "    if is_consonant(first_letter):\n",
    "        string = string.capitalize()\n",
    "    return string"
   ]
  },
  {
   "cell_type": "code",
   "execution_count": 95,
   "metadata": {},
   "outputs": [
    {
     "data": {
      "text/plain": [
       "'Banana'"
      ]
     },
     "execution_count": 95,
     "metadata": {},
     "output_type": "execute_result"
    }
   ],
   "source": [
    "capitalize_starting_consonant('banana')"
   ]
  },
  {
   "cell_type": "code",
   "execution_count": 96,
   "metadata": {},
   "outputs": [
    {
     "data": {
      "text/plain": [
       "'apple'"
      ]
     },
     "execution_count": 96,
     "metadata": {},
     "output_type": "execute_result"
    }
   ],
   "source": [
    "capitalize_starting_consonant('apple')"
   ]
  },
  {
   "cell_type": "code",
   "execution_count": 97,
   "metadata": {},
   "outputs": [],
   "source": [
    "# Exercise 5\n",
    "# Define a function named calculate_tip. \n",
    "# It should accept a tip percentage \n",
    "# (a number between 0 and 1) and the bill total, \n",
    "# and return the amount to tip.\n",
    "\n",
    "def calculate_tip(tip_percentage, bill):\n",
    "    amount_to_tip = bill * tip_percentage\n",
    "    return amount_to_tip"
   ]
  },
  {
   "cell_type": "code",
   "execution_count": 98,
   "metadata": {},
   "outputs": [],
   "source": [
    "assert calculate_tip(.20, 20) == 4.0\n",
    "assert calculate_tip(.15, 20) == 3.0\n",
    "assert calculate_tip(.10, 20) == 2.0"
   ]
  },
  {
   "cell_type": "code",
   "execution_count": 99,
   "metadata": {},
   "outputs": [],
   "source": [
    "# Exercise 6\n",
    "# Define a function named apply_discount. \n",
    "# It should accept a original price, and a discount percentage, \n",
    "# and return the price after the discount is applied.\n",
    "\n",
    "def apply_discount(price, discount_percentage):\n",
    "    discount = price * discount_percentage\n",
    "    return price - discount"
   ]
  },
  {
   "cell_type": "code",
   "execution_count": 100,
   "metadata": {},
   "outputs": [],
   "source": [
    "assert apply_discount(10, .10) == 9.0\n",
    "assert apply_discount(10, .20) == 8.0\n",
    "assert apply_discount(10, 1) == 0\n",
    "assert apply_discount(10, 0) == 10"
   ]
  },
  {
   "cell_type": "code",
   "execution_count": 101,
   "metadata": {},
   "outputs": [],
   "source": [
    "# Exercise 7\n",
    "# Define a function named handle_commas. \n",
    "# It should accept a string that is a number that contains \n",
    "# commas in it as input, \n",
    "# and return a number as output.\n",
    "\n",
    "def handle_commas(numeric_string):\n",
    "    string_without_commas = numeric_string.replace(',', '')\n",
    "    actual_number = int(string_without_commas)\n",
    "    return actual_number"
   ]
  },
  {
   "cell_type": "code",
   "execution_count": 102,
   "metadata": {},
   "outputs": [],
   "source": [
    "assert handle_commas('1,234') == 1234\n",
    "assert handle_commas('1,234,567') == 1234567\n",
    "assert handle_commas('123') == 123"
   ]
  },
  {
   "cell_type": "code",
   "execution_count": 103,
   "metadata": {},
   "outputs": [],
   "source": [
    "# Exercise 8\n",
    "# Define a function named get_letter_grade. \n",
    "# It should accept a number and return the letter grade \n",
    "# associated with that number (A-F).\n",
    "\n",
    "def get_letter_grade(grade):\n",
    "    if type(grade) == int or type(grade) == float:\n",
    "        if grade >= 90:\n",
    "            return \"A\"\n",
    "        elif grade >= 80:\n",
    "            return \"B\"\n",
    "        elif grade >= 70:\n",
    "            return \"C\"\n",
    "        elif grade >= 60:\n",
    "            return \"D\"\n",
    "        else:\n",
    "            return \"F\"\n",
    "    else:\n",
    "        return \"Input must be a number\""
   ]
  },
  {
   "cell_type": "code",
   "execution_count": 104,
   "metadata": {},
   "outputs": [],
   "source": [
    "assert get_letter_grade(90) == 'A'\n",
    "assert get_letter_grade(99) == 'A'\n",
    "assert get_letter_grade(80) == 'B'\n",
    "assert get_letter_grade(85) == 'B'\n",
    "assert get_letter_grade(70) == 'C'\n",
    "assert get_letter_grade(59) == 'F'"
   ]
  },
  {
   "cell_type": "code",
   "execution_count": 105,
   "metadata": {},
   "outputs": [],
   "source": [
    "# Exercise 9\n",
    "# Define a function named remove_vowels that accepts a \n",
    "# string and returns a string with all the vowels removed.\n",
    "\n",
    "def remove_vowels(string):\n",
    "    output = ''\n",
    "    for char in string:\n",
    "        if is_consonant(char):\n",
    "            output += char\n",
    "    return output"
   ]
  },
  {
   "cell_type": "code",
   "execution_count": 106,
   "metadata": {},
   "outputs": [],
   "source": [
    "def remove_vowels(string):\n",
    "    return ''.join([c for c in string if is_consonant(c)])"
   ]
  },
  {
   "cell_type": "code",
   "execution_count": 107,
   "metadata": {},
   "outputs": [],
   "source": [
    "assert remove_vowels('a') == ''\n",
    "assert remove_vowels('codeup') == 'cdp'\n",
    "assert remove_vowels('Curie') == 'Cr'\n",
    "assert remove_vowels('aaa') == ''\n",
    "assert remove_vowels('bbb') == 'bbb'"
   ]
  },
  {
   "cell_type": "code",
   "execution_count": 108,
   "metadata": {},
   "outputs": [],
   "source": [
    "# Exercise 10\n",
    "# Define a function named normalize_name. \n",
    "# It should accept a string and return a valid python identifier\n",
    "# steps I want to take\n",
    "# make lowercase, remove whitespace, establish valid identifier\n",
    "\n",
    "# this function will replace any special characters in string\n",
    "# keep on letters, numbers and spaces\n",
    "def remove_special_char(string):\n",
    "    return ''.join([c for c in string if c.isalnum() or c == ' '])\n",
    "\n",
    "\n",
    "\n",
    "# this function will call remove_special_char function first and then\n",
    "# lowercase, strip and replace spaces with underscores\n",
    "\n",
    "def normalize_name(string):\n",
    "    special_char_removed = remove_special_char(string)\n",
    "    return special_char_removed.lower().strip().replace(' ', '_')"
   ]
  },
  {
   "cell_type": "code",
   "execution_count": 109,
   "metadata": {},
   "outputs": [],
   "source": [
    "assert normalize_name('Name') == 'name'\n",
    "assert normalize_name('First Name') == 'first_name'\n",
    "assert normalize_name('% Completed') == 'completed'"
   ]
  },
  {
   "cell_type": "code",
   "execution_count": 110,
   "metadata": {},
   "outputs": [],
   "source": [
    "# Exercise 11\n",
    "# Write a function named cumulative_sum that accepts a list of numbers and returns a list that is the cumulative sum of the numbers in the list.\n",
    "# cumulative_sum([1, 1, 1]) returns [1, 2, 3]\n",
    "# cumulative_sum([1, 2, 3, 4]) returns [1, 3, 6, 10]\n",
    "\n",
    "def cumulative_sum(nums):\n",
    "    output = []\n",
    "    total = 0\n",
    "    for num in nums:\n",
    "        total += num\n",
    "        output.append(total)\n",
    "    return output"
   ]
  },
  {
   "cell_type": "code",
   "execution_count": 111,
   "metadata": {},
   "outputs": [],
   "source": [
    "assert cumulative_sum([1, 1, 1]) == [1, 2, 3]\n",
    "assert cumulative_sum([1, 2, 3, 4]) == [1, 3, 6, 10]"
   ]
  },
  {
   "cell_type": "code",
   "execution_count": null,
   "metadata": {},
   "outputs": [],
   "source": []
  }
 ],
 "metadata": {
  "kernelspec": {
   "display_name": "Python 3",
   "language": "python",
   "name": "python3"
  },
  "language_info": {
   "codemirror_mode": {
    "name": "ipython",
    "version": 3
   },
   "file_extension": ".py",
   "mimetype": "text/x-python",
   "name": "python",
   "nbconvert_exporter": "python",
   "pygments_lexer": "ipython3",
   "version": "3.8.5"
  }
 },
 "nbformat": 4,
 "nbformat_minor": 5
}
