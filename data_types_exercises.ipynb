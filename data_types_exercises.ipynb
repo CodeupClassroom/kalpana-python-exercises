{
 "cells": [
  {
   "cell_type": "markdown",
   "metadata": {},
   "source": [
    "You have rented some movies for your kids: The little mermaid (for 3 days), Brother Bear (for 5 days, they love it), and Hercules (1 day, you don't know yet if they're going to like it). If price for a movie per day is 3 dollars, how much will you have to pay?"
   ]
  },
  {
   "cell_type": "code",
   "execution_count": 3,
   "metadata": {},
   "outputs": [
    {
     "data": {
      "text/plain": [
       "27"
      ]
     },
     "execution_count": 3,
     "metadata": {},
     "output_type": "execute_result"
    }
   ],
   "source": [
    "little_mermaid_days = 3\n",
    "brother_bear_days = 5\n",
    "hercules_days = 1\n",
    "cost_per_day = 3\n",
    "total = little_mermaid_days * cost_per_day + hercules_days * cost_per_day + brother_bear_days * cost_per_day\n",
    "total"
   ]
  },
  {
   "cell_type": "markdown",
   "metadata": {},
   "source": [
    "Suppose you're working as a contractor for 3 companies: Google, Amazon and Facebook, they pay you a different rate per hour. Google pays 400 dollars per hour, Amazon 380, and Facebook 350. How much will you receive in payment for this week? You worked 10 hours for Facebook, 6 hours for Google and 4 hours for Amazon."
   ]
  },
  {
   "cell_type": "code",
   "execution_count": 3,
   "metadata": {},
   "outputs": [
    {
     "data": {
      "text/plain": [
       "6530"
      ]
     },
     "execution_count": 3,
     "metadata": {},
     "output_type": "execute_result"
    }
   ],
   "source": [
    "hourly_rate_google = 400\n",
    "hourly_rate_amazon = 380\n",
    "hourly_rate_facebook = 350\n",
    "\n",
    "hours_worked_google = 8\n",
    "hours_worked_amazon = 6\n",
    "hours_worked_facebook = 3\n",
    "\n",
    "# make calculations using variables\n",
    "total_pay_google = hourly_rate_google * hours_worked_google\n",
    "total_pay_amazon = hourly_rate_amazon * hours_worked_amazon\n",
    "total_pay_facebook = hourly_rate_facebook * hours_worked_facebook\n",
    "\n",
    "total_pay = total_pay_google + total_pay_amazon + total_pay_facebook\n",
    "\n",
    "total_pay"
   ]
  },
  {
   "cell_type": "markdown",
   "metadata": {},
   "source": [
    "A student can be enrolled to a class only if the class is not full and the class schedule does not conflict with her current schedule.\n"
   ]
  },
  {
   "cell_type": "code",
   "execution_count": 15,
   "metadata": {},
   "outputs": [
    {
     "data": {
      "text/plain": [
       "False"
      ]
     },
     "execution_count": 15,
     "metadata": {},
     "output_type": "execute_result"
    }
   ],
   "source": [
    "class_has_room = True\n",
    "schedule_works = False\n",
    "\n",
    "can_be_enrolled = class_has_room and schedule_works\n",
    "can_be_enrolled"
   ]
  },
  {
   "cell_type": "markdown",
   "metadata": {},
   "source": [
    "A product offer can be applied only if people buy more than 2 items, and the offer has not expired. \n",
    "A Premium members do not need to buy a specific amount of products.\n"
   ]
  },
  {
   "cell_type": "code",
   "execution_count": 16,
   "metadata": {},
   "outputs": [
    {
     "data": {
      "text/plain": [
       "True"
      ]
     },
     "execution_count": 16,
     "metadata": {},
     "output_type": "execute_result"
    }
   ],
   "source": [
    "buying_more_than_2 = False\n",
    "offer_still_good = True\n",
    "is_premium_member = True\n",
    "\n",
    "offer_can_be_applied = offer_still_good and (buying_more_than_2 or is_premium_member)\n",
    "offer_can_be_applied \n"
   ]
  },
  {
   "cell_type": "code",
   "execution_count": 10,
   "metadata": {},
   "outputs": [],
   "source": [
    "username = 'codeup'\n",
    "password = 'notastrongpassword'"
   ]
  },
  {
   "cell_type": "markdown",
   "metadata": {},
   "source": [
    "### Create a variable that holds a boolean value for each of the following conditions:\n",
    "\n",
    "- the password must be at least 5 characters\n",
    "- the username must be no more than 20 characters\n",
    "- the password must not be the same as the username\n",
    "- bonus neither the username or password can start or end with whitespace"
   ]
  },
  {
   "cell_type": "code",
   "execution_count": 17,
   "metadata": {},
   "outputs": [
    {
     "data": {
      "text/plain": [
       "True"
      ]
     },
     "execution_count": 17,
     "metadata": {},
     "output_type": "execute_result"
    }
   ],
   "source": [
    "# is the password atleast five characters?\n",
    "at_least_five_characters = len(password) > 5\n",
    "at_least_five_characters"
   ]
  },
  {
   "cell_type": "code",
   "execution_count": 12,
   "metadata": {},
   "outputs": [
    {
     "data": {
      "text/plain": [
       "True"
      ]
     },
     "execution_count": 12,
     "metadata": {},
     "output_type": "execute_result"
    }
   ],
   "source": [
    "# is username less than 20 characters?\n",
    "username_20_characters_or_less = len(username) <20\n",
    "username_20_characters_or_less"
   ]
  },
  {
   "cell_type": "code",
   "execution_count": null,
   "metadata": {},
   "outputs": [],
   "source": [
    "# is the password different than username\n",
    "password_is_different_from_username = username != password"
   ]
  },
  {
   "cell_type": "code",
   "execution_count": 14,
   "metadata": {},
   "outputs": [],
   "source": [
    "# .strip w/ no specified character defaults to whitespace\n",
    "\"   con tent  \".strip()\n",
    "\n",
    "username_no_whitespace = username == username.strip()\n",
    "password_no_whitespace = password == password.strip()"
   ]
  },
  {
   "cell_type": "code",
   "execution_count": 13,
   "metadata": {},
   "outputs": [],
   "source": [
    "username_is_good = username_20_characters_or_less and username_no_whitespace\n",
    "password_is_good = at_least_five_characters and password_is_different_from_username and password_no_whitespace\n",
    "\n",
    "credentials_are_good = username_is_good and password_is_good"
   ]
  },
  {
   "cell_type": "code",
   "execution_count": 18,
   "metadata": {},
   "outputs": [
    {
     "data": {
      "text/plain": [
       "True"
      ]
     },
     "execution_count": 18,
     "metadata": {},
     "output_type": "execute_result"
    }
   ],
   "source": [
    "credentials_are_good"
   ]
  },
  {
   "cell_type": "code",
   "execution_count": null,
   "metadata": {},
   "outputs": [],
   "source": []
  }
 ],
 "metadata": {
  "kernelspec": {
   "display_name": "Python 3",
   "language": "python",
   "name": "python3"
  },
  "language_info": {
   "codemirror_mode": {
    "name": "ipython",
    "version": 3
   },
   "file_extension": ".py",
   "mimetype": "text/x-python",
   "name": "python",
   "nbconvert_exporter": "python",
   "pygments_lexer": "ipython3",
   "version": "3.8.5"
  }
 },
 "nbformat": 4,
 "nbformat_minor": 4
}
