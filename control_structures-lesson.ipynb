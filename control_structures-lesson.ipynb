{
 "cells": [
  {
   "cell_type": "markdown",
   "metadata": {},
   "source": [
    "### Conditionals:\n",
    "\n",
    "### if this then that"
   ]
  },
  {
   "cell_type": "code",
   "execution_count": null,
   "metadata": {},
   "outputs": [],
   "source": [
    "# if some condition is true:\n",
    "    #execute this code"
   ]
  },
  {
   "cell_type": "code",
   "execution_count": 3,
   "metadata": {},
   "outputs": [
    {
     "name": "stdout",
     "output_type": "stream",
     "text": [
      "The number is even\n",
      "Complete\n"
     ]
    }
   ],
   "source": [
    "x = 6\n",
    "\n",
    "r = x % 2\n",
    "\n",
    "if r == 0:\n",
    "    print('The number is even')\n",
    "#    print('Greetings!')\n",
    "    \n",
    "print('Complete')"
   ]
  },
  {
   "cell_type": "code",
   "execution_count": null,
   "metadata": {},
   "outputs": [],
   "source": []
  },
  {
   "cell_type": "markdown",
   "metadata": {},
   "source": [
    "#### If this then that, Otherwise"
   ]
  },
  {
   "cell_type": "code",
   "execution_count": 5,
   "metadata": {},
   "outputs": [
    {
     "name": "stdout",
     "output_type": "stream",
     "text": [
      "The number is even\n",
      "Complete\n"
     ]
    }
   ],
   "source": [
    "x = 6\n",
    "\n",
    "r = x % 2\n",
    "\n",
    "\n",
    "if r == 0:\n",
    "    print('The number is even')\n",
    "\n",
    "# if r == 1:\n",
    "#     print('This is an odd number')\n",
    "       \n",
    "else:\n",
    "    print('the number is odd')\n",
    "    \n",
    "print('Complete')"
   ]
  },
  {
   "cell_type": "code",
   "execution_count": 6,
   "metadata": {},
   "outputs": [
    {
     "name": "stdout",
     "output_type": "stream",
     "text": [
      "This number is greater than 2\n",
      "The number is even\n",
      "Complete\n"
     ]
    }
   ],
   "source": [
    "# Nested ifs:\n",
    "\n",
    "x = 6\n",
    "\n",
    "r = x % 2\n",
    "\n",
    "if r == 0:\n",
    "    if x > 2:\n",
    "        print('This number is greater than 2')\n",
    "    else:\n",
    "        print('This number is less than equal to 2')\n",
    "        \n",
    "    print('The number is even')\n",
    "\n",
    "else:\n",
    "    print('the number is odd')\n",
    "    \n",
    "print('Complete')"
   ]
  },
  {
   "cell_type": "code",
   "execution_count": null,
   "metadata": {},
   "outputs": [],
   "source": []
  },
  {
   "cell_type": "code",
   "execution_count": 10,
   "metadata": {},
   "outputs": [
    {
     "name": "stdout",
     "output_type": "stream",
     "text": [
      "TWO\n"
     ]
    }
   ],
   "source": [
    "# Example:\n",
    "\n",
    "\n",
    "\n",
    "# 1 == > ONE\n",
    "# 2 --> TWO\n",
    "# 3 ==> THREE\n",
    "# >4 --> Huraay!\n",
    "\n",
    "x = 2\n",
    "\n",
    "if x == 1:\n",
    "    print('ONE')\n",
    "\n",
    "elif x == 2:\n",
    "    print('TWO')\n",
    "\n",
    "elif x == 3:\n",
    "    print('THREE')\n",
    "    \n",
    "else:\n",
    "    print('FOUR')"
   ]
  },
  {
   "cell_type": "markdown",
   "metadata": {},
   "source": [
    "## Loops\n",
    "\n",
    "`for` for running a block of code a set number of times  \n",
    "`while` for running a block of code until a condition is met\n",
    "\n"
   ]
  },
  {
   "cell_type": "code",
   "execution_count": 11,
   "metadata": {
    "scrolled": true
   },
   "outputs": [
    {
     "name": "stdout",
     "output_type": "stream",
     "text": [
      "2\n",
      "4\n",
      "6\n",
      "8\n",
      "10\n",
      "12\n"
     ]
    }
   ],
   "source": [
    "l = [1,2,3,4,5,6]\n",
    "\n",
    "for num in l:\n",
    "    #executive this code\n",
    "    print(num * 2)\n",
    "    "
   ]
  },
  {
   "cell_type": "code",
   "execution_count": 13,
   "metadata": {
    "scrolled": true
   },
   "outputs": [
    {
     "data": {
      "text/plain": [
       "range"
      ]
     },
     "execution_count": 13,
     "metadata": {},
     "output_type": "execute_result"
    }
   ],
   "source": [
    "# print whether number is odd or even\n",
    "type(range(1, 21))\n"
   ]
  },
  {
   "cell_type": "code",
   "execution_count": 19,
   "metadata": {},
   "outputs": [
    {
     "data": {
      "text/plain": [
       "[1, 2, 3, 4, 5, 6, 7, 8, 9, 10, 11, 12, 13, 14, 15, 16, 17, 18, 19, 20]"
      ]
     },
     "execution_count": 19,
     "metadata": {},
     "output_type": "execute_result"
    }
   ],
   "source": [
    "list(range(1, 21))\n"
   ]
  },
  {
   "cell_type": "code",
   "execution_count": 20,
   "metadata": {},
   "outputs": [
    {
     "name": "stdout",
     "output_type": "stream",
     "text": [
      "1 Here is an odd number\n",
      "2 Here is an even number\n",
      "3 Here is an odd number\n",
      "4 Here is an even number\n",
      "5 Here is an odd number\n",
      "6 Here is an even number\n",
      "7 Here is an odd number\n",
      "8 Here is an even number\n",
      "9 Here is an odd number\n",
      "10 Here is an even number\n",
      "11 Here is an odd number\n",
      "12 Here is an even number\n",
      "13 Here is an odd number\n",
      "14 Here is an even number\n",
      "15 Here is an odd number\n",
      "16 Here is an even number\n",
      "17 Here is an odd number\n",
      "18 Here is an even number\n",
      "19 Here is an odd number\n",
      "20 Here is an even number\n"
     ]
    }
   ],
   "source": [
    "for num in range(1,21):\n",
    "    if num % 2 == 0:\n",
    "        print(num , 'Here is an even number')\n",
    "    else:\n",
    "        print(num, 'Here is an odd number')"
   ]
  },
  {
   "cell_type": "code",
   "execution_count": 21,
   "metadata": {},
   "outputs": [],
   "source": [
    "# output in a list\n",
    "l = []\n",
    "for num in range(1,21):\n",
    "    if num % 2 == 0:\n",
    "        l.append(num)\n",
    "        "
   ]
  },
  {
   "cell_type": "code",
   "execution_count": 22,
   "metadata": {},
   "outputs": [
    {
     "data": {
      "text/plain": [
       "[2, 4, 6, 8, 10, 12, 14, 16, 18, 20]"
      ]
     },
     "execution_count": 22,
     "metadata": {},
     "output_type": "execute_result"
    }
   ],
   "source": [
    "l"
   ]
  },
  {
   "cell_type": "code",
   "execution_count": 25,
   "metadata": {},
   "outputs": [
    {
     "data": {
      "text/plain": [
       "[4, 8, 12, 16, 20, 24, 28, 32, 36, 40]"
      ]
     },
     "execution_count": 25,
     "metadata": {},
     "output_type": "execute_result"
    }
   ],
   "source": [
    "# list comprehension\n",
    "\n",
    "[num*2 for num in range(1,21) if num % 2 == 0]"
   ]
  },
  {
   "cell_type": "markdown",
   "metadata": {},
   "source": [
    "### While\n",
    "The while loop will execute it's body until the condition evaluates to false."
   ]
  },
  {
   "cell_type": "code",
   "execution_count": 26,
   "metadata": {},
   "outputs": [],
   "source": [
    "# While (some condition is True):\n",
    "    # Keep doing this\n",
    "    # re-evalaute"
   ]
  },
  {
   "cell_type": "code",
   "execution_count": 34,
   "metadata": {},
   "outputs": [
    {
     "name": "stdout",
     "output_type": "stream",
     "text": [
      "1\n",
      "2\n",
      "3\n",
      "4\n",
      "5\n",
      "6\n",
      "7\n",
      "8\n",
      "9\n"
     ]
    }
   ],
   "source": [
    "i = 1\n",
    "\n",
    "while i < 10:\n",
    "    print(i)\n",
    "#     i = i + 1\n",
    "    i += 1"
   ]
  },
  {
   "cell_type": "code",
   "execution_count": 32,
   "metadata": {},
   "outputs": [
    {
     "name": "stdout",
     "output_type": "stream",
     "text": [
      "1\n",
      "2\n",
      "3\n",
      "4\n",
      "5\n",
      "6\n",
      "7\n",
      "8\n",
      "9\n"
     ]
    }
   ],
   "source": [
    "i = 1\n",
    "\n",
    "while i < 10:\n",
    "    print(i)\n",
    "    i = i + 1"
   ]
  },
  {
   "cell_type": "code",
   "execution_count": 33,
   "metadata": {},
   "outputs": [
    {
     "name": "stdout",
     "output_type": "stream",
     "text": [
      "Please input your password: password\n",
      "The password is incorrect\n",
      "Please input your password: password123\n",
      "The password is incorrect\n",
      "Please input your password: password1234\n",
      "Please proceed\n"
     ]
    }
   ],
   "source": [
    "stored_password = 'password1234'\n",
    "user_input = input('Please input your password: ')\n",
    "\n",
    "# While (if password is incorrect):\n",
    "    # keep prompting use for the password\n",
    "    \n",
    "while stored_password != user_input:\n",
    "    print('The password is incorrect')\n",
    "    user_input = input('Please input your password: ')\n",
    "    \n",
    "print('Please proceed')"
   ]
  },
  {
   "cell_type": "markdown",
   "metadata": {},
   "source": [
    "### Break\n",
    "- `break` will stop executing the loop entirely"
   ]
  },
  {
   "cell_type": "code",
   "execution_count": 36,
   "metadata": {},
   "outputs": [
    {
     "name": "stdout",
     "output_type": "stream",
     "text": [
      "2 even number\n",
      "4 even number\n",
      "6 even number\n"
     ]
    }
   ],
   "source": [
    "for num in range(1, 11):\n",
    "    if num > 7:\n",
    "        break\n",
    "    if num % 2 == 0:\n",
    "        print(num, \"even number\")\n",
    "    "
   ]
  },
  {
   "cell_type": "code",
   "execution_count": 39,
   "metadata": {},
   "outputs": [
    {
     "name": "stdout",
     "output_type": "stream",
     "text": [
      "1 Here is your Candy!\n",
      "2 Here is your Candy!\n",
      "3 Here is your Candy!\n",
      "4 Here is your Candy!\n",
      "5 Here is your Candy!\n",
      "Sorry, Out of Candies!\n"
     ]
    }
   ],
   "source": [
    "user_input = 8\n",
    "i = 1\n",
    "available_candies = 5\n",
    "\n",
    "while i <= user_input:\n",
    "    if i > available_candies:\n",
    "        print('Sorry, Out of Candies!')\n",
    "        break\n",
    "    print(i, 'Here is your Candy!')\n",
    "    i = i + 1"
   ]
  },
  {
   "cell_type": "code",
   "execution_count": null,
   "metadata": {},
   "outputs": [],
   "source": []
  },
  {
   "cell_type": "markdown",
   "metadata": {},
   "source": [
    "### Continue\n",
    "- `continue` will skip to the next iteration of a loop"
   ]
  },
  {
   "cell_type": "code",
   "execution_count": 42,
   "metadata": {},
   "outputs": [
    {
     "name": "stdout",
     "output_type": "stream",
     "text": [
      "1 Here is an odd number\n",
      "3 Here is an odd number\n",
      "5 Here is an odd number\n",
      "7 Here is an odd number\n",
      "9 Here is an odd number\n"
     ]
    }
   ],
   "source": [
    "for num in range(1, 11):\n",
    "    if num % 2 == 0:\n",
    "        continue\n",
    "    print(num, 'Here is an odd number')  "
   ]
  },
  {
   "cell_type": "code",
   "execution_count": null,
   "metadata": {},
   "outputs": [],
   "source": []
  }
 ],
 "metadata": {
  "kernelspec": {
   "display_name": "Python 3",
   "language": "python",
   "name": "python3"
  },
  "language_info": {
   "codemirror_mode": {
    "name": "ipython",
    "version": 3
   },
   "file_extension": ".py",
   "mimetype": "text/x-python",
   "name": "python",
   "nbconvert_exporter": "python",
   "pygments_lexer": "ipython3",
   "version": "3.8.5"
  }
 },
 "nbformat": 4,
 "nbformat_minor": 4
}
